{
 "cells": [
  {
   "cell_type": "code",
   "execution_count": null,
   "id": "1c4b14f3-19d1-4fa6-8751-56bea04db5b4",
   "metadata": {
    "jupyter": {
     "source_hidden": true
    },
    "scrolled": true
   },
   "outputs": [],
   "source": [
    "# setup\n",
    "library(\"readxl\")\n",
    "library(\"dplyr\")\n",
    "library(\"tidyr\")\n",
    "library(\"tibble\")\n",
    "library(\"PCAtools\")\n",
    "library(\"viridis\")"
   ]
  },
  {
   "cell_type": "code",
   "execution_count": 2,
   "id": "3b64e370-e4f5-414c-93a7-56c1b5ca37de",
   "metadata": {
    "jupyter": {
     "source_hidden": true
    }
   },
   "outputs": [
    {
     "data": {
      "text/html": [
       "'# call: python /lustre/scratch126/casm/team268im/dh24/conda/envs/motus-profiler/bin/../share/motus-2.5.1//motus merge -i metasub_urban_1/taxonomic_profile.txt,metasub_urban_2/taxonomic_profile.txt,metasub_urban_3/taxonomic_profile.txt -o merged_profile.txt'"
      ],
      "text/latex": [
       "'\\# call: python /lustre/scratch126/casm/team268im/dh24/conda/envs/motus-profiler/bin/../share/motus-2.5.1//motus merge -i metasub\\_urban\\_1/taxonomic\\_profile.txt,metasub\\_urban\\_2/taxonomic\\_profile.txt,metasub\\_urban\\_3/taxonomic\\_profile.txt -o merged\\_profile.txt'"
      ],
      "text/markdown": [
       "'# call: python /lustre/scratch126/casm/team268im/dh24/conda/envs/motus-profiler/bin/../share/motus-2.5.1//motus merge -i metasub_urban_1/taxonomic_profile.txt,metasub_urban_2/taxonomic_profile.txt,metasub_urban_3/taxonomic_profile.txt -o merged_profile.txt'"
      ],
      "text/plain": [
       "[1] \"# call: python /lustre/scratch126/casm/team268im/dh24/conda/envs/motus-profiler/bin/../share/motus-2.5.1//motus merge -i metasub_urban_1/taxonomic_profile.txt,metasub_urban_2/taxonomic_profile.txt,metasub_urban_3/taxonomic_profile.txt -o merged_profile.txt\""
      ]
     },
     "metadata": {},
     "output_type": "display_data"
    }
   ],
   "source": [
    "# colnames might be somehow extrated from here\n",
    "readLines(\"test_data/metasub_urban/output/motus-profiler/mOTU_taxonomic_profile/merged_profile.txt\")[2]"
   ]
  },
  {
   "cell_type": "code",
   "execution_count": 3,
   "id": "c36bd315-de2e-48e7-ae0b-5c5c0c68bfeb",
   "metadata": {
    "jupyter": {
     "source_hidden": true
    }
   },
   "outputs": [],
   "source": [
    "# load the data\n",
    "otu <- read.csv(\"test_data/metasub_urban/output/motus-profiler/mOTU_taxonomic_profile/merged_profile.txt\",\n",
    "         sep=\"\\t\", skip=2, col.names = c(\"Species\", \"metasub_urban_1\", \"metasub_urban_2\", \"metasub_urban_3\"))\n",
    "metadata <- read.csv(\"test_data/metasub_urban/input/metasub_urban.csv\") %>%\n",
    "    column_to_rownames(var = \"sample_name\")\n",
    "\n",
    "# match the rows in meta to cols in otu (needed for PCA)\n",
    "metadata <- metadata[match(colnames(otu[,-1]), rownames(metadata)),]"
   ]
  },
  {
   "cell_type": "markdown",
   "id": "5f20a564-0f45-4ead-aa51-2fe84d43f416",
   "metadata": {},
   "source": [
    "# Barplot\n",
    "~ ~ ~"
   ]
  },
  {
   "cell_type": "markdown",
   "id": "709358dc-bf50-49ce-9524-5ba7ad51f19b",
   "metadata": {},
   "source": [
    "# PCA"
   ]
  },
  {
   "cell_type": "code",
   "execution_count": 9,
   "id": "153d5a8b-190d-4dcd-9ace-25a594e01af5",
   "metadata": {
    "jupyter": {
     "source_hidden": true
    }
   },
   "outputs": [
    {
     "name": "stderr",
     "output_type": "stream",
     "text": [
      "Warning message:\n",
      "\"useNames = NA is deprecated. Instead, specify either useNames = TRUE or useNames = TRUE.\"\n",
      "\u001b[1m\u001b[22mScale for \u001b[32mcolour\u001b[39m is already present.\n",
      "Adding another scale for \u001b[32mcolour\u001b[39m, which will replace the existing scale.\n"
     ]
    },
    {
     "data": {
      "image/png": "[encoded data removed]",
      "text/plain": [
       "plot without title"
      ]
     },
     "metadata": {
      "image/png": {
       "height": 420,
       "width": 420
      }
     },
     "output_type": "display_data"
    }
   ],
   "source": [
    "pca<- pca(otu[,-1], metadata=metadata) # ? , removeVar=0.1\n",
    "biplot(pca, colby=\"scientific.name\", legendPosition = \"right\", lab=NULL,\n",
    "       gridlines.major = FALSE, gridlines.minor = FALSE, colLegendTitle = NULL,\n",
    "       colkey = magma(n = n_distinct(metadata), begin = 0.3))"
   ]
  },
  {
   "cell_type": "markdown",
   "id": "5bbc2f81-d451-4cc5-81fd-ac0f409c947c",
   "metadata": {},
   "source": [
    "# Heatmap"
   ]
  },
  {
   "cell_type": "code",
   "execution_count": 10,
   "id": "3b1cfb6a-09ff-4777-a34f-7d7fbb77981f",
   "metadata": {
    "jupyter": {
     "source_hidden": true
    }
   },
   "outputs": [
    {
     "data": {
      "image/png": "[encoded data removed]",
      "text/plain": [
       "plot without title"
      ]
     },
     "metadata": {
      "image/png": {
       "height": 420,
       "width": 420
      }
     },
     "output_type": "display_data"
    }
   ],
   "source": [
    "library(pheatmap)\n",
    "corr_matrix <- cor(otu[,-1])\n",
    "\n",
    "pheatmap(corr_matrix,annotation=metadata[][3],\n",
    "         show_colnames = FALSE, show_rownames = FALSE,\n",
    "         color = magma(12, direction=-1), annotation_colors = viridis(n=0), border_color = NA\n",
    "        )"
   ]
  }
 ],
 "metadata": {
  "kernelspec": {
   "display_name": "R",
   "language": "R",
   "name": "ir"
  },
  "language_info": {
   "codemirror_mode": "r",
   "file_extension": ".r",
   "mimetype": "text/x-r-source",
   "name": "R",
   "pygments_lexer": "r",
   "version": "4.2.3"
  }
 },
 "nbformat": 4,
 "nbformat_minor": 5
}
